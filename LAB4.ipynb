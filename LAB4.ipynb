{
 "cells": [
  {
   "metadata": {},
   "cell_type": "markdown",
   "source": "# Лабораторная работа 4",
   "id": "6751f49a0979d0c2"
  },
  {
   "metadata": {},
   "cell_type": "markdown",
   "source": "## Часть 1",
   "id": "874b173a3183eb3b"
  },
  {
   "metadata": {},
   "cell_type": "markdown",
   "source": "### 4.1 Написать функцию формирования порождающей и проверочной матриц расширенного кода Голея (24,12,8).\n",
   "id": "479df9337619f3c6"
  },
  {
   "metadata": {
    "ExecuteTime": {
     "end_time": "2024-11-20T18:49:20.309761Z",
     "start_time": "2024-11-20T18:49:20.303993Z"
    }
   },
   "cell_type": "code",
   "source": [
    "import numpy as np\n",
    "import random\n",
    "from itertools import product\n",
    "import random"
   ],
   "id": "a44f75e8f6db3879",
   "outputs": [],
   "execution_count": 125
  },
  {
   "metadata": {
    "ExecuteTime": {
     "end_time": "2024-11-20T18:49:20.362625Z",
     "start_time": "2024-11-20T18:49:20.356891Z"
    }
   },
   "cell_type": "code",
   "source": [
    "# config\n",
    "n, k, d = 24, 12, 8"
   ],
   "id": "d0b60b5b18addf7",
   "outputs": [],
   "execution_count": 126
  },
  {
   "cell_type": "code",
   "id": "initial_id",
   "metadata": {
    "collapsed": true,
    "ExecuteTime": {
     "end_time": "2024-11-20T18:49:20.435191Z",
     "start_time": "2024-11-20T18:49:20.424898Z"
    }
   },
   "source": [
    "def golay_matrix():\n",
    "    B = np.array([[1, 1, 0, 1, 1, 1, 0, 0, 0, 1, 0, 1],\n",
    "              [1, 0, 1, 1, 1, 0, 0, 0, 1, 0, 1, 1],\n",
    "              [0, 1, 1, 1, 0, 0, 0, 1, 0, 1, 1, 1],\n",
    "              [1, 1, 1, 0, 0, 0, 1, 0, 1, 1, 0, 1],\n",
    "              [1, 1, 0, 0, 0, 1, 0, 1, 1, 0, 1, 1],\n",
    "              [1, 0, 0, 0, 1, 0, 1, 1, 0, 1, 1, 1],\n",
    "              [0, 0, 0, 1, 0, 1, 1, 0, 1, 1, 1, 1],\n",
    "              [0, 0, 1, 0, 1, 1, 0, 1, 1, 1, 0, 1],\n",
    "              [0, 1, 0, 1, 1, 0, 1, 1, 1, 0, 0, 1],\n",
    "              [1, 0, 1, 1, 0, 1, 1, 1, 0, 0, 0, 1],\n",
    "              [0, 1, 1, 0, 1, 1, 1, 0, 0, 0, 1, 1],\n",
    "              [1, 1, 1, 1, 1, 1, 1, 1, 1, 1, 1, 0]], dtype=int)\n",
    "    \n",
    "    G = np.hstack((np.eye(len(B), dtype=int), B))\n",
    "    H = np.vstack((np.eye(len(B), dtype=int), B))\n",
    "    \n",
    "    return B, G, H"
   ],
   "outputs": [],
   "execution_count": 127
  },
  {
   "metadata": {
    "ExecuteTime": {
     "end_time": "2024-11-20T18:49:20.520061Z",
     "start_time": "2024-11-20T18:49:20.509855Z"
    }
   },
   "cell_type": "code",
   "source": [
    "B, G, H = golay_matrix()\n",
    "print(\"Порождающая матрица G:\")\n",
    "print(G)\n",
    "print(\"\\nПроверочная матрица H:\")\n",
    "print(H)"
   ],
   "id": "478a6119c5b81600",
   "outputs": [
    {
     "name": "stdout",
     "output_type": "stream",
     "text": [
      "Порождающая матрица G:\n",
      "[[1 0 0 0 0 0 0 0 0 0 0 0 1 1 0 1 1 1 0 0 0 1 0 1]\n",
      " [0 1 0 0 0 0 0 0 0 0 0 0 1 0 1 1 1 0 0 0 1 0 1 1]\n",
      " [0 0 1 0 0 0 0 0 0 0 0 0 0 1 1 1 0 0 0 1 0 1 1 1]\n",
      " [0 0 0 1 0 0 0 0 0 0 0 0 1 1 1 0 0 0 1 0 1 1 0 1]\n",
      " [0 0 0 0 1 0 0 0 0 0 0 0 1 1 0 0 0 1 0 1 1 0 1 1]\n",
      " [0 0 0 0 0 1 0 0 0 0 0 0 1 0 0 0 1 0 1 1 0 1 1 1]\n",
      " [0 0 0 0 0 0 1 0 0 0 0 0 0 0 0 1 0 1 1 0 1 1 1 1]\n",
      " [0 0 0 0 0 0 0 1 0 0 0 0 0 0 1 0 1 1 0 1 1 1 0 1]\n",
      " [0 0 0 0 0 0 0 0 1 0 0 0 0 1 0 1 1 0 1 1 1 0 0 1]\n",
      " [0 0 0 0 0 0 0 0 0 1 0 0 1 0 1 1 0 1 1 1 0 0 0 1]\n",
      " [0 0 0 0 0 0 0 0 0 0 1 0 0 1 1 0 1 1 1 0 0 0 1 1]\n",
      " [0 0 0 0 0 0 0 0 0 0 0 1 1 1 1 1 1 1 1 1 1 1 1 0]]\n",
      "\n",
      "Проверочная матрица H:\n",
      "[[1 0 0 0 0 0 0 0 0 0 0 0]\n",
      " [0 1 0 0 0 0 0 0 0 0 0 0]\n",
      " [0 0 1 0 0 0 0 0 0 0 0 0]\n",
      " [0 0 0 1 0 0 0 0 0 0 0 0]\n",
      " [0 0 0 0 1 0 0 0 0 0 0 0]\n",
      " [0 0 0 0 0 1 0 0 0 0 0 0]\n",
      " [0 0 0 0 0 0 1 0 0 0 0 0]\n",
      " [0 0 0 0 0 0 0 1 0 0 0 0]\n",
      " [0 0 0 0 0 0 0 0 1 0 0 0]\n",
      " [0 0 0 0 0 0 0 0 0 1 0 0]\n",
      " [0 0 0 0 0 0 0 0 0 0 1 0]\n",
      " [0 0 0 0 0 0 0 0 0 0 0 1]\n",
      " [1 1 0 1 1 1 0 0 0 1 0 1]\n",
      " [1 0 1 1 1 0 0 0 1 0 1 1]\n",
      " [0 1 1 1 0 0 0 1 0 1 1 1]\n",
      " [1 1 1 0 0 0 1 0 1 1 0 1]\n",
      " [1 1 0 0 0 1 0 1 1 0 1 1]\n",
      " [1 0 0 0 1 0 1 1 0 1 1 1]\n",
      " [0 0 0 1 0 1 1 0 1 1 1 1]\n",
      " [0 0 1 0 1 1 0 1 1 1 0 1]\n",
      " [0 1 0 1 1 0 1 1 1 0 0 1]\n",
      " [1 0 1 1 0 1 1 1 0 0 0 1]\n",
      " [0 1 1 0 1 1 1 0 0 0 1 1]\n",
      " [1 1 1 1 1 1 1 1 1 1 1 0]]\n"
     ]
    }
   ],
   "execution_count": 128
  },
  {
   "metadata": {},
   "cell_type": "markdown",
   "source": "### 4.2. Провести исследование расширенного кода Голея для одно-, двух-, трёх- и четырёхкратных ошибок.",
   "id": "2494d97f9288cc31"
  },
  {
   "metadata": {
    "ExecuteTime": {
     "end_time": "2024-11-20T18:49:21.378005Z",
     "start_time": "2024-11-20T18:49:20.589945Z"
    }
   },
   "cell_type": "code",
   "source": [
    "def gen_error_words(word, n_errors):\n",
    "    tmp_word = word.copy()\n",
    "    error_indices = random.sample(range(len(tmp_word)), n_errors)\n",
    "    \n",
    "    for index in error_indices:\n",
    "        tmp_word[index] ^= 1\n",
    "    \n",
    "    return tmp_word\n",
    "\n",
    "\n",
    "def decode_words(word, H):\n",
    "    return np.dot(word, H) % 2\n",
    "\n",
    "\n",
    "def calc_error_vector(s, B):\n",
    "    u = np.array([])\n",
    "    if sum(s) <= 3:\n",
    "        u = np.hstack((s, np.zeros(len(B), dtype=int)))\n",
    "        return u\n",
    "    \n",
    "    # e_i - вектор с единственной единицей по индексу i\n",
    "    for j in range(len(B)):\n",
    "        if sum(s + B[j]) <= 2:\n",
    "            e_i = np.zeros(12, dtype=int)\n",
    "            e_i[j] = 1\n",
    "            u = np.hstack(((s + B[j]) % 2, e_i))\n",
    "            return u\n",
    "    \n",
    "    if u.size == 0:\n",
    "        sB = (s @ B) % 2\n",
    "        if sum(sB) <= 3:\n",
    "            u = np.hstack((np.zeros(12, dtype=int), sB))\n",
    "            return u\n",
    "    \n",
    "        for j in range(len(B)):\n",
    "            if sum((sB + B[j]) % 2) <= 2:\n",
    "                e_i = np.zeros(12, dtype=int)\n",
    "                e_i[j] = 1\n",
    "                u = np.hstack((e_i, (sB + B[j]) % 2))\n",
    "                return u\n",
    "    return np.array([])\n",
    "        \n",
    "\n",
    "def analise_golay(B, G, H):\n",
    "    k = 12\n",
    "    message = np.random.randint(2, size=k)\n",
    "    code = np.dot(message, G) % 2\n",
    "    \n",
    "    print(\"Сообщение: \", message)\n",
    "    print(\"Закодированное слово: \", code)\n",
    "    print()\n",
    "    \n",
    "    words = [[0, 1] for _ in range(k)]\n",
    "    words = np.array(list(product(*words)))\n",
    "\n",
    "    # создаем словарь: ключ - кодовое слово, значение исходное сообщение\n",
    "    w_dict = {np.array_str((el @ G)% 2): el for el in words}\n",
    "    \n",
    "    for i in range(1, 5):\n",
    "        print(\"Кол-во ошибок: \", i)\n",
    "        error_code = gen_error_words(code, i)\n",
    "        print(\"Кодовое слово с ошибками: \", error_code)\n",
    "        # вычисляем синдром\n",
    "        s = np.array(decode_words(error_code, H))\n",
    "        print(\"Синдром: \", s)\n",
    "\n",
    "        u = calc_error_vector(s, B)\n",
    "\n",
    "        if u.size != 0:\n",
    "            print(f\"Исходное слово: {w_dict[np.array_str((error_code + u) % 2)]}\\n\")\n",
    "        else:\n",
    "            print(\"Невозможно вычислить, так как кратность ошибки выше 3\")\n",
    "            \n",
    "analise_golay(B, G, H)"
   ],
   "id": "6a055b7b304fea9f",
   "outputs": [
    {
     "name": "stdout",
     "output_type": "stream",
     "text": [
      "Сообщение:  [1 0 1 1 1 0 0 0 1 0 0 0]\n",
      "Закодированное слово:  [1 0 1 1 1 0 0 0 1 0 0 0 1 1 0 1 0 0 0 1 1 1 0 1]\n",
      "\n",
      "Кол-во ошибок:  1\n",
      "Кодовое слово с ошибками:  [1 0 1 1 1 0 0 0 1 0 0 0 1 1 0 1 0 0 0 1 1 1 1 1]\n",
      "Синдром:  [0 1 1 0 1 1 1 0 0 0 1 1]\n",
      "Исходное слово: [1 0 1 1 1 0 0 0 1 0 0 0]\n",
      "\n",
      "Кол-во ошибок:  2\n",
      "Кодовое слово с ошибками:  [1 0 1 0 1 0 0 0 1 0 0 0 1 0 0 1 0 0 0 1 1 1 0 1]\n",
      "Синдром:  [1 0 1 0 1 0 0 0 1 0 1 1]\n",
      "Исходное слово: [1 0 1 1 1 0 0 0 1 0 0 0]\n",
      "\n",
      "Кол-во ошибок:  3\n",
      "Кодовое слово с ошибками:  [1 0 1 1 1 0 0 1 1 0 0 0 1 1 1 1 0 0 0 1 1 0 0 1]\n",
      "Синдром:  [1 1 0 0 0 1 1 1 0 1 1 0]\n",
      "Исходное слово: [1 0 1 1 1 0 0 0 1 0 0 0]\n",
      "\n",
      "Кол-во ошибок:  4\n",
      "Кодовое слово с ошибками:  [1 0 0 1 1 0 0 0 1 0 0 1 1 1 0 1 0 1 0 1 1 1 0 0]\n",
      "Синдром:  [0 1 0 1 0 1 0 0 1 0 0 0]\n",
      "Невозможно вычислить, так как кратность ошибки выше 3\n"
     ]
    }
   ],
   "execution_count": 129
  },
  {
   "metadata": {},
   "cell_type": "markdown",
   "source": "## Часть 2",
   "id": "620096839e7e4069"
  },
  {
   "metadata": {},
   "cell_type": "markdown",
   "source": "### 4.3 Написать функцию формирования порождающей и проверочных матриц кода Рида-Маллера 𝑅𝑀(𝑟, 𝑚) на основе параметров 𝑟 и 𝑚.",
   "id": "1b99b1ebfa0f5537"
  },
  {
   "metadata": {
    "ExecuteTime": {
     "end_time": "2024-11-20T18:49:21.682111Z",
     "start_time": "2024-11-20T18:49:21.661433Z"
    }
   },
   "cell_type": "code",
   "source": [
    "def RM(r, m):\n",
    "    if r == 0:\n",
    "        return np.ones((1, 2 ** m), dtype=int)\n",
    "    if r == m:\n",
    "        return np.vstack((RM(m - 1, m), np.array([0 for _ in range(2 ** m - 1)] + [1])))\n",
    "    mat = RM(r, m - 1)\n",
    "    mat2 = RM(r - 1, m - 1)\n",
    "    return np.vstack((np.hstack((mat, mat)), np.hstack((np.zeros((mat2.shape[0], mat.shape[1]), dtype=int), mat2))))\n",
    "\n",
    "\n",
    "def kron(A, B):\n",
    "    rows_A, cols_A = A.shape\n",
    "    rows_B, cols_B = B.shape\n",
    "    result = np.zeros((rows_A * rows_B, cols_A * cols_B), dtype=A.dtype)\n",
    "    for i in range(rows_A):\n",
    "        for j in range(cols_A):\n",
    "            result[i * rows_B:(i + 1) * rows_B, j * cols_B:(j + 1) * cols_B] = A[i, j] * B\n",
    "    return result\n",
    "\n",
    "\n",
    "def H_matrix(H, m, i):\n",
    "    matrix = np.eye(2 ** (m - i), dtype=int)\n",
    "    matrix = kron(matrix, H)\n",
    "    matrix = kron(matrix, np.eye(2 ** (i - 1)))\n",
    "    return matrix\n",
    "\n",
    "\n",
    "def calc_error_rm(word, m):\n",
    "    word = np.where(word == 0, -1, word)  # Заменяем 0 на -1\n",
    "    w_array = []\n",
    "    H = np.array([[1, 1], [1, -1]])\n",
    "    w_array.append(word @ H_matrix(H, m, 1))\n",
    "    for i in range(2, m + 1):\n",
    "        w_array.append(w_array[-1] @ H_matrix(H, m, i))\n",
    "    w_last = w_array[-1]  # Используем только последний уровень\n",
    "\n",
    "    max_value = np.max(np.abs(w_last))\n",
    "    indices = np.where(np.abs(w_last) == max_value)[0]\n",
    "\n",
    "    if len(indices) > 1:\n",
    "        return None  # Несколько максимумов, невозможно исправить ошибку\n",
    "\n",
    "    index = indices[0]\n",
    "    message = list(map(int, format(index, f'0{m}b')))  # Индекс в двоичное представление\n",
    "    message.append(1 if w_last[index] > 0 else 0)  # Добавляем бит определения\n",
    "    return message\n",
    "\n",
    "\n",
    "def analise_golay(r, m, u, e):\n",
    "    print(\"Сообщение:\", u)\n",
    "    print(f\"Порождающая матрица для RM({r}, {m}):\")\n",
    "    G = RM(r, m)\n",
    "    print(G)\n",
    "    print()\n",
    "    word = u @ G % 2\n",
    "    print(\"Закодированное слово:\", word)\n",
    "\n",
    "    for i in range(1, e + 1):\n",
    "        error = np.zeros(word.shape[0], dtype=int)\n",
    "        error_indices = random.sample(range(word.shape[0]), i)\n",
    "        for index in error_indices:\n",
    "            error[index] = 1\n",
    "\n",
    "        print(\"\\nКоличество ошибок:\", i)\n",
    "        print(\"Допущенная ошибка:\", error)\n",
    "        word_with_error = (word + error) % 2\n",
    "        print(\"Сообщение с ошибкой:\", word_with_error)\n",
    "\n",
    "        message = calc_error_rm(word_with_error, m)\n",
    "        if message is None:\n",
    "            print(\"Невозможно исправить ошибку!\")\n",
    "        else:\n",
    "            corrected_message = np.array(message[::-1])\n",
    "            print(\"Исправленное сообщение:\", corrected_message)\n",
    "            if np.array_equal(u, corrected_message):\n",
    "                print(\"Сообщение успешно декодировано!\")\n",
    "            else:\n",
    "                print(\"Сообщение было декодировано с ошибкой!\")"
   ],
   "id": "e0d496e4f836eb3f",
   "outputs": [],
   "execution_count": 130
  },
  {
   "metadata": {},
   "cell_type": "markdown",
   "source": "### 4.4. Провести исследование кода Рида-Маллера 𝑅𝑀(1,3) для одно- и двукратных ошибок.\n",
   "id": "946cbadcd9933bc0"
  },
  {
   "metadata": {
    "ExecuteTime": {
     "end_time": "2024-11-20T18:49:21.753489Z",
     "start_time": "2024-11-20T18:49:21.741838Z"
    }
   },
   "cell_type": "code",
   "source": [
    "u = np.array([1, 0, 0, 1])\n",
    "analise_golay(1, 3, u, 2)"
   ],
   "id": "8be6f88ee07d466a",
   "outputs": [
    {
     "name": "stdout",
     "output_type": "stream",
     "text": [
      "Сообщение: [1 0 0 1]\n",
      "Порождающая матрица для RM(1, 3):\n",
      "[[1 1 1 1 1 1 1 1]\n",
      " [0 1 0 1 0 1 0 1]\n",
      " [0 0 1 1 0 0 1 1]\n",
      " [0 0 0 0 1 1 1 1]]\n",
      "\n",
      "Закодированное слово: [1 1 1 1 0 0 0 0]\n",
      "\n",
      "Количество ошибок: 1\n",
      "Допущенная ошибка: [0 0 0 0 1 0 0 0]\n",
      "Сообщение с ошибкой: [1 1 1 1 1 0 0 0]\n",
      "Исправленное сообщение: [1 0 0 1]\n",
      "Сообщение успешно декодировано!\n",
      "\n",
      "Количество ошибок: 2\n",
      "Допущенная ошибка: [0 0 1 0 0 0 1 0]\n",
      "Сообщение с ошибкой: [1 1 0 1 0 0 1 0]\n",
      "Невозможно исправить ошибку!\n"
     ]
    }
   ],
   "execution_count": 131
  },
  {
   "metadata": {},
   "cell_type": "markdown",
   "source": "### 4.5. Провести исследование кода Рида-Маллера 𝑅𝑀(1,4) для одно-, двух-, трёх- и четырёхкратных ошибок.",
   "id": "977be7d619fcc44b"
  },
  {
   "metadata": {
    "ExecuteTime": {
     "end_time": "2024-11-20T18:49:21.992947Z",
     "start_time": "2024-11-20T18:49:21.969078Z"
    }
   },
   "cell_type": "code",
   "source": [
    "u = np.array([1, 0, 1, 0, 1])\n",
    "analise_golay(1, 4, u, 4)\n"
   ],
   "id": "11cd44ab41604867",
   "outputs": [
    {
     "name": "stdout",
     "output_type": "stream",
     "text": [
      "Сообщение: [1 0 1 0 1]\n",
      "Порождающая матрица для RM(1, 4):\n",
      "[[1 1 1 1 1 1 1 1 1 1 1 1 1 1 1 1]\n",
      " [0 1 0 1 0 1 0 1 0 1 0 1 0 1 0 1]\n",
      " [0 0 1 1 0 0 1 1 0 0 1 1 0 0 1 1]\n",
      " [0 0 0 0 1 1 1 1 0 0 0 0 1 1 1 1]\n",
      " [0 0 0 0 0 0 0 0 1 1 1 1 1 1 1 1]]\n",
      "\n",
      "Закодированное слово: [1 1 0 0 1 1 0 0 0 0 1 1 0 0 1 1]\n",
      "\n",
      "Количество ошибок: 1\n",
      "Допущенная ошибка: [1 0 0 0 0 0 0 0 0 0 0 0 0 0 0 0]\n",
      "Сообщение с ошибкой: [0 1 0 0 1 1 0 0 0 0 1 1 0 0 1 1]\n",
      "Исправленное сообщение: [1 0 1 0 1]\n",
      "Сообщение успешно декодировано!\n",
      "\n",
      "Количество ошибок: 2\n",
      "Допущенная ошибка: [1 0 0 0 0 0 0 0 0 0 1 0 0 0 0 0]\n",
      "Сообщение с ошибкой: [0 1 0 0 1 1 0 0 0 0 0 1 0 0 1 1]\n",
      "Исправленное сообщение: [1 0 1 0 1]\n",
      "Сообщение успешно декодировано!\n",
      "\n",
      "Количество ошибок: 3\n",
      "Допущенная ошибка: [0 1 0 0 0 0 0 0 1 0 0 0 0 0 1 0]\n",
      "Сообщение с ошибкой: [1 0 0 0 1 1 0 0 1 0 1 1 0 0 0 1]\n",
      "Исправленное сообщение: [1 0 1 0 1]\n",
      "Сообщение успешно декодировано!\n",
      "\n",
      "Количество ошибок: 4\n",
      "Допущенная ошибка: [0 0 0 1 0 0 0 0 1 0 1 0 0 1 0 0]\n",
      "Сообщение с ошибкой: [1 1 0 1 1 1 0 0 1 0 0 1 0 1 1 1]\n",
      "Невозможно исправить ошибку!\n"
     ]
    }
   ],
   "execution_count": 132
  }
 ],
 "metadata": {
  "kernelspec": {
   "display_name": "Python 3",
   "language": "python",
   "name": "python3"
  },
  "language_info": {
   "codemirror_mode": {
    "name": "ipython",
    "version": 2
   },
   "file_extension": ".py",
   "mimetype": "text/x-python",
   "name": "python",
   "nbconvert_exporter": "python",
   "pygments_lexer": "ipython2",
   "version": "2.7.6"
  }
 },
 "nbformat": 4,
 "nbformat_minor": 5
}
