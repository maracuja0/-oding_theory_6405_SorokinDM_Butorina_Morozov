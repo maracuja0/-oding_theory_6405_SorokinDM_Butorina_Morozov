{
  "metadata": {
    "kernelspec": {
      "name": "python",
      "display_name": "Python (Pyodide)",
      "language": "python"
    },
    "language_info": {
      "codemirror_mode": {
        "name": "python",
        "version": 3
      },
      "file_extension": ".py",
      "mimetype": "text/x-python",
      "name": "python",
      "nbconvert_exporter": "python",
      "pygments_lexer": "ipython3",
      "version": "3.8"
    }
  },
  "nbformat_minor": 4,
  "nbformat": 4,
  "cells": [
    {
      "cell_type": "markdown",
      "source": "## Выполнили студенты гр. 6405-010302D:\n* Сорокин Д.М.\n* Буторина П.В.\n* Морозов А.Е.",
      "metadata": {
        "jp-MarkdownHeadingCollapsed": true
      }
    },
    {
      "cell_type": "markdown",
      "source": "# Лабораторная работа 2",
      "metadata": {}
    },
    {
      "cell_type": "markdown",
      "source": "## Часть 1",
      "metadata": {}
    },
    {
      "cell_type": "markdown",
      "source": "### Подключение библиотеки",
      "metadata": {}
    },
    {
      "cell_type": "code",
      "source": "import numpy as np",
      "metadata": {
        "trusted": true
      },
      "outputs": [],
      "execution_count": 2
    },
    {
      "cell_type": "markdown",
      "source": "### 2.1 Сформировать порождающую матрицу линейного кода (7, 4, 3)",
      "metadata": {}
    },
    {
      "cell_type": "code",
      "source": "def generate_g_matrix():\n    I_k = np.eye(4, dtype=int)\n    X = np.array([\n        [1, 1, 0],\n        [1, 0, 1],\n        [0, 1, 1],\n        [1, 1, 1]\n    ])\n    G = np.hstack((I_k, X))\n    return G\n\nG = generate_g_matrix()\nprint(\"Пораждающая матрица G:\\n\", G)",
      "metadata": {
        "trusted": true
      },
      "outputs": [
        {
          "name": "stdout",
          "text": "Пораждающая матрица G:\n [[1 0 0 0 1 1 0]\n [0 1 0 0 1 0 1]\n [0 0 1 0 0 1 1]\n [0 0 0 1 1 1 1]]\n",
          "output_type": "stream"
        }
      ],
      "execution_count": 3
    },
    {
      "cell_type": "markdown",
      "source": "### 2.2 Сформировать проверочную матрицу на основе порождающей",
      "metadata": {}
    },
    {
      "cell_type": "code",
      "source": "def generate_h_matrix(G):\n    X = G[:, 4:]\n    I_nk = np.eye(3, dtype=int)\n    H = np.hstack((X.T, I_nk))\n    return H\n\nH = generate_h_matrix(G)\nprint(\"Проверочная матрица H:\\n\", H)",
      "metadata": {
        "trusted": true
      },
      "outputs": [
        {
          "name": "stdout",
          "text": "Проверочная матрица H:\n [[1 1 0 1 1 0 0]\n [1 0 1 1 0 1 0]\n [0 1 1 1 0 0 1]]\n",
          "output_type": "stream"
        }
      ],
      "execution_count": 4
    },
    {
      "cell_type": "markdown",
      "source": "### 2.3 Сформировать таблицу синдромов для всех однократных ошибок",
      "metadata": {}
    },
    {
      "cell_type": "code",
      "source": "def generate_syndrome_table(H):\n    n = H.shape[1]\n    error_vectors = np.eye(n, dtype=int)\n    syndrome_table = {tuple(H @ e % 2): e for e in error_vectors}\n    return syndrome_table\n\nsyndrome_table = generate_syndrome_table(H)\nprint(\"Синдром:\", \"\\t\", \"Вектор ошибки:\")\nfor syndrome, error_vector in syndrome_table.items():\n    print(syndrome, \"\\t\", error_vector)",
      "metadata": {
        "trusted": true
      },
      "outputs": [
        {
          "name": "stdout",
          "text": "Синдром: \t Вектор ошибки:\n(1, 1, 0) \t [1 0 0 0 0 0 0]\n(1, 0, 1) \t [0 1 0 0 0 0 0]\n(0, 1, 1) \t [0 0 1 0 0 0 0]\n(1, 1, 1) \t [0 0 0 1 0 0 0]\n(1, 0, 0) \t [0 0 0 0 1 0 0]\n(0, 1, 0) \t [0 0 0 0 0 1 0]\n(0, 0, 1) \t [0 0 0 0 0 0 1]\n",
          "output_type": "stream"
        }
      ],
      "execution_count": 5
    },
    {
      "cell_type": "markdown",
      "source": "### 2.4 Сформировать кодовое слово длины n из слова длины k. Внести однократную ошибку в сформированное слово. Вычислить синдром, исправить ошибку с использованием таблицы синдромов. Убедиться в правильности полученного слова",
      "metadata": {}
    },
    {
      "cell_type": "code",
      "source": "def encode_message(G, message):\n    return message @ G % 2\n\ndef decode_message(H, received_word, syndrome_table):\n    syndrome = tuple(H @ received_word % 2)\n    if syndrome in syndrome_table:\n        error = syndrome_table[syndrome]\n        corrected_word = (received_word + error) % 2\n        return corrected_word, error\n    return received_word, None\n\ndef introduce_error(codeword, error_indices):\n    error_vector = np.zeros(len(codeword), dtype=int)\n    for i in error_indices:\n        error_vector[i] = 1\n    return (codeword + error_vector) % 2\n\nmessage = np.array([1, 0, 1, 1])\nprint(\"Исходное слово:\\n\", message)\ncodeword = encode_message(G, message)\nprint(\"\\nКодовое слово:\\n\", codeword)\nreceived_word = introduce_error(codeword, [2])\nprint(\"\\nПринятое слово с однократной ошибкой:\\n\", received_word)\ncorrected_word, error = decode_message(H, received_word, syndrome_table)\nprint(\"\\nИспраавленное слово:\\n\", corrected_word)\nprint(\"\\nОшибка:\\n\", error)",
      "metadata": {
        "trusted": true
      },
      "outputs": [
        {
          "name": "stdout",
          "text": "Исходное слово:\n [1 0 1 1]\n\nКодовое слово:\n [1 0 1 1 0 1 0]\n\nПринятое слово с однократной ошибкой:\n [1 0 0 1 0 1 0]\n\nИспраавленное слово:\n [1 0 1 1 0 1 0]\n\nОшибка:\n [0 0 1 0 0 0 0]\n",
          "output_type": "stream"
        }
      ],
      "execution_count": 20
    },
    {
      "cell_type": "markdown",
      "source": "### 2.5 Сформировать кодовое слово длины n из слова длины k. Внести двукратную ошибку в сформированное слово. Вычислить синдром, исправить ошибку с использованием таблицы синдромов. Убедиться, что полученное слово отличается от отправленного",
      "metadata": {}
    },
    {
      "cell_type": "code",
      "source": "def attempt_double_error_correction(H, codeword, syndrome_table):\n    received_word = introduce_error(codeword, [1, 4])\n    syndrome = tuple(H @ received_word % 2)\n    if syndrome in syndrome_table:\n        error = syndrome_table[syndrome]\n        corrected_word = (received_word + error) % 2\n    else:\n        corrected_word = received_word\n        error = None\n    return corrected_word, error\n\nprint(\"Исходное слово:\\n\", message)\nprint(\"\\nКодовое слово:\\n\", codeword)\nreceived_word_double_error, error_double = attempt_double_error_correction(H, codeword, syndrome_table)\nprint(\"\\nПринятое слово с двукратной ошибкой:\\n\", received_word_double_error)\nprint(\"\\nПопытка исправления двукратной ошибки:\\n\", received_word_double_error)\nprint(\"\\nОшибка:\\n\", error_double)",
      "metadata": {
        "trusted": true
      },
      "outputs": [
        {
          "name": "stdout",
          "text": "Исходное слово:\n [0 1 1 0]\n\nКодовое слово:\n [0 1 1 0 1 1 0]\n\nПринятое слово с двукратной ошибкой:\n [0 0 1 0 0 1 1]\n\nПопытка исправления двукратной ошибки:\n [0 0 1 0 0 1 1]\n\nОшибка:\n [0 0 0 0 0 0 1]\n",
          "output_type": "stream"
        }
      ],
      "execution_count": 27
    },
    {
      "cell_type": "markdown",
      "source": "## Часть 2",
      "metadata": {}
    },
    {
      "cell_type": "markdown",
      "source": "### 2.6 Сформировать порождающую матрицу линейного кода (n, k, 5)",
      "metadata": {}
    },
    {
      "cell_type": "code",
      "source": "def generate_g_matrix_5():\n    I_k = np.eye(5, dtype=int)\n    X = np.array([\n        [1, 1, 1, 0, 1],\n        [0, 1, 1, 1, 1],\n        [1, 0, 1, 1, 1],\n        [1, 1, 0, 1, 1],\n        [1, 1, 1, 1, 0]\n    ])\n    G = np.hstack((I_k, X))\n    return G\n\nG_5 = generate_g_matrix_5()\nprint(\"Пораждающая матрица G для кода (n, k, 5):\\n\", G_5)",
      "metadata": {
        "trusted": true
      },
      "outputs": [
        {
          "name": "stdout",
          "text": "Пораждающая матрица G для кода (n, k, 5):\n [[1 0 0 0 0 1 1 1 0 1]\n [0 1 0 0 0 0 1 1 1 1]\n [0 0 1 0 0 1 0 1 1 1]\n [0 0 0 1 0 1 1 0 1 1]\n [0 0 0 0 1 1 1 1 1 0]]\n",
          "output_type": "stream"
        }
      ],
      "execution_count": 22
    },
    {
      "cell_type": "markdown",
      "source": "### 2.7 Сформировать проверочную матрицу на основе порождающей",
      "metadata": {}
    },
    {
      "cell_type": "code",
      "source": "def generate_h_matrix_5(G):\n    X = G[:, 5:]\n    I_nk = np.eye(5, dtype=int)\n    H = np.hstack((X.T, I_nk))\n    return H\n\nH_5 = generate_h_matrix_5(G_5)\nprint(\"Проверочная матрица H:\\n\", H_5)",
      "metadata": {
        "trusted": true
      },
      "outputs": [
        {
          "name": "stdout",
          "text": "Проверочная матрица H:\n [[1 0 1 1 1 1 0 0 0 0]\n [1 1 0 1 1 0 1 0 0 0]\n [1 1 1 0 1 0 0 1 0 0]\n [0 1 1 1 1 0 0 0 1 0]\n [1 1 1 1 0 0 0 0 0 1]]\n",
          "output_type": "stream"
        }
      ],
      "execution_count": 23
    },
    {
      "cell_type": "markdown",
      "source": "### 2.8 Сформировать таблицу синдромов для всех однократных и двукратных ошибок",
      "metadata": {}
    },
    {
      "cell_type": "code",
      "source": "def generate_syndrome_table_5(H):\n    n = H.shape[1]\n    error_vectors = np.eye(n, dtype=int)\n    syndrome_table = {tuple(H @ e % 2): e for e in error_vectors}\n\n    for i in range(n):\n        for j in range(i + 1, n):\n            error_vector = np.zeros(n, dtype=int)\n            error_vector[i] = 1\n            error_vector[j] = 1\n            syndrome_table[tuple(H @ error_vector % 2)] = error_vector\n    return syndrome_table\n\nsyndrome_table_5 = generate_syndrome_table_5(H_5)\nprint(\"Синдром:\", \"\\t\\t\", \"Вектор ошибки:\")\nfor syndrome_5, error_vector_5 in syndrome_table_5.items():\n    print(syndrome_5, \"\\t\", error_vector_5)",
      "metadata": {
        "trusted": true
      },
      "outputs": [
        {
          "name": "stdout",
          "text": "Синдром: \t\t Вектор ошибки:\n(1, 1, 1, 0, 1) \t [1 0 0 0 0 0 0 0 0 0]\n(0, 1, 1, 1, 1) \t [0 1 0 0 0 0 0 0 0 0]\n(1, 0, 1, 1, 1) \t [0 0 1 0 0 0 0 0 0 0]\n(1, 1, 0, 1, 1) \t [0 0 0 1 0 0 0 0 0 0]\n(1, 1, 1, 1, 0) \t [0 0 0 0 1 0 0 0 0 0]\n(1, 0, 0, 0, 0) \t [0 0 0 0 0 1 0 0 0 0]\n(0, 1, 0, 0, 0) \t [0 0 0 0 0 0 1 0 0 0]\n(0, 0, 1, 0, 0) \t [0 0 0 0 0 0 0 1 0 0]\n(0, 0, 0, 1, 0) \t [0 0 0 0 0 0 0 0 1 0]\n(0, 0, 0, 0, 1) \t [0 0 0 0 0 0 0 0 0 1]\n(1, 0, 0, 1, 0) \t [0 0 0 0 0 1 0 0 1 0]\n(0, 1, 0, 1, 0) \t [0 0 0 0 0 0 1 0 1 0]\n(0, 0, 1, 1, 0) \t [0 0 0 0 0 0 0 1 1 0]\n(0, 0, 0, 1, 1) \t [0 0 0 0 0 0 0 0 1 1]\n(0, 1, 1, 0, 1) \t [0 1 0 0 0 0 0 0 1 0]\n(1, 0, 1, 0, 1) \t [0 0 1 0 0 0 0 0 1 0]\n(1, 1, 0, 0, 1) \t [0 0 0 1 0 0 0 0 1 0]\n(1, 1, 1, 1, 1) \t [0 0 0 0 1 0 0 0 0 1]\n(1, 1, 1, 0, 0) \t [0 0 0 0 1 0 0 0 1 0]\n(1, 1, 0, 0, 0) \t [0 0 0 0 0 1 1 0 0 0]\n(1, 0, 1, 0, 0) \t [0 0 0 0 0 1 0 1 0 0]\n(1, 0, 0, 0, 1) \t [0 0 0 0 0 1 0 0 0 1]\n(0, 0, 1, 1, 1) \t [0 0 1 0 0 1 0 0 0 0]\n(0, 1, 0, 1, 1) \t [0 0 0 1 0 1 0 0 0 0]\n(0, 1, 1, 1, 0) \t [0 0 0 0 1 1 0 0 0 0]\n(0, 1, 1, 0, 0) \t [0 0 0 0 0 0 1 1 0 0]\n(0, 1, 0, 0, 1) \t [0 0 0 0 0 0 1 0 0 1]\n(1, 0, 0, 1, 1) \t [0 0 0 1 0 0 1 0 0 0]\n(1, 0, 1, 1, 0) \t [0 0 0 0 1 0 1 0 0 0]\n(0, 0, 1, 0, 1) \t [0 0 0 0 0 0 0 1 0 1]\n(1, 1, 0, 1, 0) \t [0 0 0 0 1 0 0 1 0 0]\n",
          "output_type": "stream"
        }
      ],
      "execution_count": 24
    },
    {
      "cell_type": "markdown",
      "source": "### 2.9 Сформировать кодовое слово длины n из слова длины k. Внести однократную ошибку в сформированное слово. Вычислить синдром, исправить ошибку с использованием таблицы синдромов. Убедиться в правильности полученного слова",
      "metadata": {}
    },
    {
      "cell_type": "code",
      "source": "def encode_message_5(G, message):\n    return message @ G % 2\n\n\ndef decode_message_5(H, received_word, syndrome_table):\n    syndrome = tuple(H @ received_word % 2)\n    if syndrome in syndrome_table:\n        error = syndrome_table[syndrome]\n        corrected_word = (received_word + error) % 2\n        return corrected_word, error\n    return received_word, None\n\n\ndef introduce_error_5(codeword, error_indices):\n    error_vector = np.zeros(len(codeword), dtype=int)\n    for i in error_indices:\n        error_vector[i] = 1\n    return (codeword + error_vector) % 2\n\nmessage_5 = np.array([1, 0, 1, 1, 0])\nprint(\"Исходное слово:\\n\", message_5)\ncodeword_5 = encode_message_5(G_5, message_5)\nprint(\"\\nКодовое слово:\\n\", codeword_5)\nreceived_word_5 = introduce_error_5(codeword_5, [2])\nprint(\"\\nПринятое слово с однократной ошибкой:\\n\", received_word_5)\ncorrected_word_5, error_5 = decode_message_5(H_5, received_word_5, syndrome_table_5)\nprint(\"\\nИсправленное слово:\\n\", corrected_word_5)\nprint(\"\\nОшибка:\\n\", error_5)",
      "metadata": {
        "trusted": true
      },
      "outputs": [
        {
          "name": "stdout",
          "text": "Исходное слово:\n [1 0 1 1 0]\n\nКодовое слово:\n [1 0 1 1 0 1 0 0 0 1]\n\nПринятое слово с однократной ошибкой:\n [1 0 0 1 0 1 0 0 0 1]\n\nИсправленное слово:\n [1 0 1 1 0 1 0 0 0 1]\n\nОшибка:\n [0 0 1 0 0 0 0 0 0 0]\n",
          "output_type": "stream"
        }
      ],
      "execution_count": 28
    },
    {
      "cell_type": "markdown",
      "source": "### 2.10. Сформировать кодовое слово длины n из слова длины k. Внести двукратную ошибку в сформированное слово. Вычислить синдром, исправить ошибку с использованием таблицы синдромов. Убедиться в правильности полученного слова",
      "metadata": {}
    },
    {
      "cell_type": "code",
      "source": "print(\"Исходное слово:\\n\", message_5)\nprint(\"\\nКодовое слово:\\n\", codeword_5)\n\nreceived_word_5 = introduce_error_5(codeword_5, [1, 4])\nprint(\"\\nПринятое слово с двукратной ошибкой:\\n\", received_word_5)\ncorrected_word_5, error_5 = decode_message_5(H_5, received_word_5, syndrome_table_5)\nprint(\"\\nИсправленное слово:\\n\", corrected_word_5)\nprint(\"\\nОшибка:\\n\", error_5)",
      "metadata": {
        "trusted": true
      },
      "outputs": [
        {
          "name": "stdout",
          "text": "Исходное слово:\n [1 0 1 1 0]\n\nКодовое слово:\n [1 0 1 1 0 1 0 0 0 1]\n\nПринятое слово с двукратной ошибкой:\n [1 1 1 1 1 1 0 0 0 1]\n\nИсправленное слово:\n [1 1 1 1 1 0 0 0 0 0]\n\nОшибка:\n [0 0 0 0 0 1 0 0 0 1]\n",
          "output_type": "stream"
        }
      ],
      "execution_count": 29
    },
    {
      "cell_type": "markdown",
      "source": "### 2.11. Сформировать кодовое слово длины n из слова длины k. Внести трёхкратную ошибку в сформированное слово. Вычислить синдром, исправить ошибку с использованием таблицы синдромов. Убедиться, что полученное слово отличается от отправленного",
      "metadata": {}
    },
    {
      "cell_type": "code",
      "source": "print(\"Исходное слово:\\n\", message_5)\nprint(\"\\nКодовое слово:\\n\", codeword_5)\n\nreceived_word_5 = introduce_error_5(codeword_5, [0, 2, 4])\nprint(\"\\nПринятое слово с трёхкратной ошибкой:\\n\", received_word_5)\ncorrected_word_5, error_5 = decode_message_5(H_5, received_word_5, syndrome_table_5)\nprint(\"\\nИсправленное слово:\\n\", corrected_word_5)\nprint(\"\\nОшибка:\\n\", error_5)",
      "metadata": {
        "trusted": true
      },
      "outputs": [
        {
          "name": "stdout",
          "text": "Исходное слово:\n [1 0 1 1 0]\n\nКодовое слово:\n [1 0 1 1 0 1 0 0 0 1]\n\nПринятое слово с трёхкратной ошибкой:\n [0 0 0 1 1 1 0 0 0 1]\n\nИсправленное слово:\n [0 0 0 1 1 0 0 1 0 1]\n\nОшибка:\n [0 0 0 0 0 1 0 1 0 0]\n",
          "output_type": "stream"
        }
      ],
      "execution_count": 30
    }
  ]
}