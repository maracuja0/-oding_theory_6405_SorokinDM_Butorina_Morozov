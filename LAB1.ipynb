{
 "cells": [
  {
   "cell_type": "markdown",
   "source": [
    "# Выполнили студенты гр. 6405-010302D:\n",
    "- Сорокин Д.М.\n",
    "- Буторина П.В.\n",
    "- Морозов А.Е."
   ],
   "metadata": {
    "collapsed": false
   },
   "id": "8fd3030f05c5c751"
  },
  {
   "cell_type": "code",
   "execution_count": 16,
   "id": "initial_id",
   "metadata": {
    "collapsed": true,
    "ExecuteTime": {
     "end_time": "2024-09-18T06:07:33.618343Z",
     "start_time": "2024-09-18T06:07:33.610275Z"
    }
   },
   "outputs": [],
   "source": [
    "import numpy as np\n",
    "from itertools import combinations"
   ]
  },
  {
   "cell_type": "markdown",
   "source": [
    "# 1.1 Реализовать функцию REF(), приводящую матрицу к ступенчатому виду.\n"
   ],
   "metadata": {
    "collapsed": false
   },
   "id": "deda834386ed201c"
  },
  {
   "cell_type": "code",
   "outputs": [],
   "source": [
    "def REF(matrix):\n",
    "    mat = np.array(matrix)\n",
    "    n_rows, n_cols = mat.shape\n",
    "    lead = 0\n",
    "    for r in range(n_rows):\n",
    "        if lead >= n_cols:\n",
    "            return mat\n",
    "        i = r\n",
    "        while mat[i, lead] == 0:\n",
    "            i += 1\n",
    "            if i == n_rows:\n",
    "                i = r\n",
    "                lead += 1\n",
    "                if lead == n_cols:\n",
    "                    return mat\n",
    "        mat[[i, r]] = mat[[r, i]]\n",
    "\n",
    "        for i in range(r + 1, n_rows):\n",
    "            if mat[i, lead] != 0:\n",
    "                mat[i] = (mat[i] + mat[r]) % 2\n",
    "        lead += 1\n",
    "    return mat"
   ],
   "metadata": {
    "collapsed": false,
    "ExecuteTime": {
     "end_time": "2024-09-18T06:07:33.694249Z",
     "start_time": "2024-09-18T06:07:33.675032Z"
    }
   },
   "id": "716bc86a134e3093",
   "execution_count": 17
  },
  {
   "cell_type": "markdown",
   "source": [
    "# 1.2. Реализовать функцию RREF(), приводящую матрицу к приведённому ступенчатому виду. "
   ],
   "metadata": {
    "collapsed": false
   },
   "id": "c875241329f48150"
  },
  {
   "cell_type": "code",
   "outputs": [],
   "source": [
    "def RREF(matrix):\n",
    "    matrix = REF(matrix)\n",
    "    n_rows, n_cols = matrix.shape\n",
    "\n",
    "    for r in range(n_rows - 1, -1, -1):\n",
    "        lead = np.argmax(matrix[r] != 0)\n",
    "        if matrix[r, lead] != 0:\n",
    "            for i in range(r - 1, -1, -1):\n",
    "                if matrix[i, lead] != 0:\n",
    "                    matrix[i] = (matrix[i] + matrix[r]) % 2\n",
    "    while not any(matrix[n_rows - 1]):\n",
    "        matrix = matrix[:-1, :]\n",
    "        n_rows -= 1\n",
    "    return matrix"
   ],
   "metadata": {
    "collapsed": false,
    "ExecuteTime": {
     "end_time": "2024-09-18T06:07:33.710173Z",
     "start_time": "2024-09-18T06:07:33.697787Z"
    }
   },
   "id": "3611ff09faecc93f",
   "execution_count": 18
  },
  {
   "cell_type": "markdown",
   "source": [
    "# 1.3. Создать класс линейных кодов LinearCode"
   ],
   "metadata": {
    "collapsed": false
   },
   "id": "19321dec31651700"
  },
  {
   "cell_type": "code",
   "outputs": [],
   "source": [
    "# класс линейных кодов\n",
    "class LinearCode:\n",
    "    def __init__(self, matrix):\n",
    "        self.matrix = matrix\n",
    "        self.G = self.delete_null_rows(RREF(matrix))\n",
    "        self.lead_columns = self.get_lead_columns(self.G)\n",
    "        self.X = self.delete_lead_columns(self.G, self.lead_columns)\n",
    "        self.H = self.create_H_matrix(self.X, self.lead_columns)\n",
    "\n",
    "    '''\n",
    "       Функция очищает нулевые строки\n",
    "    '''\n",
    "    def delete_null_rows(self, matrix):\n",
    "        # Определяем индексы строк, которые нужно удалить\n",
    "        rows_to_delete = [i for i, row in enumerate(matrix) if np.sum(row) == 0]\n",
    "\n",
    "        matrix = np.delete(matrix, rows_to_delete, axis=0)\n",
    "        return matrix\n",
    "\n",
    "    '''\n",
    "       Функция получения ведущих столбцов\n",
    "    '''\n",
    "    def get_lead_columns(self, matrix):\n",
    "        lead_columns = []\n",
    "        for line in matrix:\n",
    "            lead_columns.append(np.where(line == 1)[0][0])\n",
    "        return lead_columns\n",
    "\n",
    "    '''\n",
    "        Функция удаления ведущих столбцов\n",
    "    '''\n",
    "    def delete_lead_columns(self, matrix, lead_columns):\n",
    "\n",
    "        matrix = matrix.tolist()\n",
    "\n",
    "        new_matrix = []\n",
    "\n",
    "        for row in matrix:\n",
    "            new_row = [element for j, element in enumerate(row) if j not in lead_columns]\n",
    "            new_matrix.append(new_row)\n",
    "\n",
    "        return np.array(new_matrix)\n",
    "\n",
    "    '''\n",
    "        Формирование проверочной матрицы\n",
    "    '''\n",
    "    def create_H_matrix(self, matrix, lead_columns):\n",
    "        unit_matrix = np.eye(matrix.shape[1], dtype=int)\n",
    "        result_matrix = np.zeros((matrix.shape[0] + unit_matrix.shape[0], matrix.shape[1]), dtype=int)\n",
    "        idx_1 = 0\n",
    "        idx_2 = 0\n",
    "\n",
    "        for i in range(result_matrix.shape[0]):\n",
    "            if i in lead_columns:\n",
    "                result_matrix[i] = matrix[idx_1]\n",
    "                idx_1 += 1\n",
    "            else:\n",
    "                result_matrix[i] = unit_matrix[idx_2]\n",
    "                idx_2 += 1\n",
    "\n",
    "        return result_matrix\n",
    "\n",
    "    '''\n",
    "        Формирование кодовых слов длиной n\n",
    "        путем сложения слов\n",
    "        из порождающего множества\n",
    "    '''\n",
    "    def generate_codewords_1(self):\n",
    "        rows = self.G.shape[0]\n",
    "        codewords = set()\n",
    "\n",
    "        for r in range(1, rows + 1):\n",
    "            for comb in combinations(range(rows), r):\n",
    "                codeword = np.bitwise_xor.reduce(self.G[list(comb)], axis=0)\n",
    "                codewords.add(tuple(codeword))\n",
    "\n",
    "        codewords.add(tuple(np.zeros(self.G.shape[1], dtype=int)))\n",
    "\n",
    "        return np.array(list(codewords))\n",
    "\n",
    "    '''\n",
    "        Формирование кодовых слов длиной n\n",
    "        путем умножения всех\n",
    "        двоичных слов длины k на G \n",
    "    '''\n",
    "    def generate_codewords_2(self):\n",
    "        k = self.G.shape[0]\n",
    "        n = self.G.shape[1]\n",
    "        codewords = []\n",
    "\n",
    "        # Генерируем все двоичные слова длины k\n",
    "        for i in range(2 ** k):\n",
    "            binary_word = np.array(list(np.binary_repr(i, k)), dtype=int)\n",
    "            codeword = np.dot(binary_word, self.G) % 2\n",
    "            codewords.append(codeword)\n",
    "\n",
    "        return np.array(codewords)\n",
    "\n",
    "    '''\n",
    "        Функция проверки кодовых слов\n",
    "        путем умножения на проверочную матрицу\n",
    "    '''\n",
    "    def check_codeword(self, codeword):\n",
    "        return np.dot(codeword, self.H) % 2\n",
    "\n",
    "    '''\n",
    "        Функция определения кодового расстояния\n",
    "    '''\n",
    "    def get_code_distance(self, codewords):\n",
    "        if len(codewords) < 2:\n",
    "            return 0\n",
    "\n",
    "        min_distance = float('inf')\n",
    "\n",
    "        for word1, word2 in combinations(codewords, 2):\n",
    "            distance = np.sum(np.bitwise_xor(word1, word2))\n",
    "            if distance > 0:\n",
    "                min_distance = min(min_distance, distance)\n",
    "\n",
    "        return min_distance"
   ],
   "metadata": {
    "collapsed": false,
    "ExecuteTime": {
     "end_time": "2024-09-18T06:07:33.741085Z",
     "start_time": "2024-09-18T06:07:33.714631Z"
    }
   },
   "id": "6dee3c20813f58c5",
   "execution_count": 19
  },
  {
   "cell_type": "markdown",
   "source": [
    "# Входные данные "
   ],
   "metadata": {
    "collapsed": false
   },
   "id": "73b9ac81eef94c4e"
  },
  {
   "cell_type": "code",
   "outputs": [],
   "source": [
    "S = np.array([[1, 0, 1, 1, 0, 0, 0, 1, 0, 0, 1],\n",
    "              [0, 0, 0, 1, 1, 1, 0, 1, 0, 1, 0],\n",
    "              [0, 0, 0, 0, 1, 0, 0, 1, 0, 0, 1],\n",
    "              [1, 0, 1, 0, 1, 1, 1, 0, 0, 0, 1],\n",
    "              [0, 0, 0, 0, 1, 0, 0, 1, 1, 1, 0],\n",
    "              [1, 0, 1, 1, 1, 0, 0, 0, 0, 0, 0]])"
   ],
   "metadata": {
    "collapsed": false,
    "ExecuteTime": {
     "end_time": "2024-09-18T06:07:33.756144Z",
     "start_time": "2024-09-18T06:07:33.744537Z"
    }
   },
   "id": "f1a1392f608da152",
   "execution_count": 20
  },
  {
   "cell_type": "markdown",
   "source": [
    "# Проверка работоспособности программы\n",
    "### 1. Построение необходимых матриц"
   ],
   "metadata": {
    "collapsed": false
   },
   "id": "7ed4dbf930051fe"
  },
  {
   "cell_type": "code",
   "outputs": [
    {
     "name": "stdout",
     "output_type": "stream",
     "text": [
      "Исходная матрица:\n",
      " [[1 0 1 1 0 0 0 1 0 0 1]\n",
      " [0 0 0 1 1 1 0 1 0 1 0]\n",
      " [0 0 0 0 1 0 0 1 0 0 1]\n",
      " [1 0 1 0 1 1 1 0 0 0 1]\n",
      " [0 0 0 0 1 0 0 1 1 1 0]\n",
      " [1 0 1 1 1 0 0 0 0 0 0]]\n",
      "\n",
      "G* матрица:\n",
      " [[1 0 1 0 0 1 0 1 0 1 0]\n",
      " [0 0 0 1 0 1 0 0 0 1 1]\n",
      " [0 0 0 0 1 0 0 1 0 0 1]\n",
      " [0 0 0 0 0 0 1 0 0 1 0]\n",
      " [0 0 0 0 0 0 0 0 1 1 1]]\n",
      "\n",
      "Ведущие столбцы:  [0, 3, 4, 6, 8]\n",
      "\n",
      "Сокращенная матрица X:\n",
      " [[0 1 1 1 1 0]\n",
      " [0 0 1 0 1 1]\n",
      " [0 0 0 1 0 1]\n",
      " [0 0 0 0 1 0]\n",
      " [0 0 0 0 1 1]]\n",
      "\n",
      "Проверочная матрица H:\n",
      " [[0 1 1 1 1 0]\n",
      " [1 0 0 0 0 0]\n",
      " [0 1 0 0 0 0]\n",
      " [0 0 1 0 1 1]\n",
      " [0 0 0 1 0 1]\n",
      " [0 0 1 0 0 0]\n",
      " [0 0 0 0 1 0]\n",
      " [0 0 0 1 0 0]\n",
      " [0 0 0 0 1 1]\n",
      " [0 0 0 0 1 0]\n",
      " [0 0 0 0 0 1]]\n"
     ]
    }
   ],
   "source": [
    "print(\"Исходная матрица:\\n\", S)\n",
    "\n",
    "# Инициализация класса линейных кодов\n",
    "linearCode = LinearCode(S)\n",
    "\n",
    "print(\"\\nG* матрица:\\n\", linearCode.G)\n",
    "print(\"\\nВедущие столбцы: \", linearCode.lead_columns)\n",
    "print(\"\\nСокращенная матрица X:\\n\", linearCode.X)\n",
    "print(\"\\nПроверочная матрица H:\\n\", linearCode.H)"
   ],
   "metadata": {
    "collapsed": false,
    "ExecuteTime": {
     "end_time": "2024-09-18T06:07:33.832868Z",
     "start_time": "2024-09-18T06:07:33.806077Z"
    }
   },
   "id": "445711bf5e4f4687",
   "execution_count": 21
  },
  {
   "cell_type": "markdown",
   "source": [
    "### 2. Формирование кодовых слов и проверка на правильность"
   ],
   "metadata": {
    "collapsed": false
   },
   "id": "f0eed7f53a13a5ea"
  },
  {
   "cell_type": "code",
   "outputs": [
    {
     "name": "stdout",
     "output_type": "stream",
     "text": [
      "\n",
      "Сформированные кодовые слова (1 способ):\n",
      " [[0 0 0 0 0 0 1 0 0 1 0]\n",
      " [0 0 0 1 1 1 1 1 1 1 1]\n",
      " [1 0 1 0 1 1 0 0 1 0 0]\n",
      " [0 0 0 0 0 0 1 0 1 0 1]\n",
      " [1 0 1 1 1 0 1 0 0 1 0]\n",
      " [1 0 1 1 0 0 1 1 1 0 0]\n",
      " [0 0 0 0 1 0 0 1 1 1 0]\n",
      " [0 0 0 1 1 1 0 1 0 1 0]\n",
      " [0 0 0 1 1 1 1 1 0 0 0]\n",
      " [0 0 0 0 1 0 1 1 1 0 0]\n",
      " [1 0 1 1 0 0 1 1 0 1 1]\n",
      " [0 0 0 1 1 1 0 1 1 0 1]\n",
      " [1 0 1 0 0 1 1 1 0 0 0]\n",
      " [1 0 1 0 0 1 1 1 1 1 1]\n",
      " [0 0 0 1 0 1 0 0 1 0 0]\n",
      " [0 0 0 0 1 0 1 1 0 1 1]\n",
      " [0 0 0 0 1 0 0 1 0 0 1]\n",
      " [1 0 1 0 1 1 0 0 0 1 1]\n",
      " [1 0 1 0 0 1 0 1 0 1 0]\n",
      " [1 0 1 1 1 0 0 0 1 1 1]\n",
      " [0 0 0 0 0 0 0 0 0 0 0]\n",
      " [1 0 1 1 1 0 0 0 0 0 0]\n",
      " [1 0 1 1 1 0 1 0 1 0 1]\n",
      " [0 0 0 1 0 1 1 0 0 0 1]\n",
      " [1 0 1 0 1 1 1 0 1 1 0]\n",
      " [1 0 1 1 0 0 0 1 1 1 0]\n",
      " [1 0 1 0 1 1 1 0 0 0 1]\n",
      " [0 0 0 1 0 1 1 0 1 1 0]\n",
      " [1 0 1 0 0 1 0 1 1 0 1]\n",
      " [0 0 0 0 0 0 0 0 1 1 1]\n",
      " [1 0 1 1 0 0 0 1 0 0 1]\n",
      " [0 0 0 1 0 1 0 0 0 1 1]]\n",
      "\n",
      "Сформированные кодовые слова (2 способ):\n",
      " [[0 0 0 0 0 0 0 0 0 0 0]\n",
      " [0 0 0 0 0 0 0 0 1 1 1]\n",
      " [0 0 0 0 0 0 1 0 0 1 0]\n",
      " [0 0 0 0 0 0 1 0 1 0 1]\n",
      " [0 0 0 0 1 0 0 1 0 0 1]\n",
      " [0 0 0 0 1 0 0 1 1 1 0]\n",
      " [0 0 0 0 1 0 1 1 0 1 1]\n",
      " [0 0 0 0 1 0 1 1 1 0 0]\n",
      " [0 0 0 1 0 1 0 0 0 1 1]\n",
      " [0 0 0 1 0 1 0 0 1 0 0]\n",
      " [0 0 0 1 0 1 1 0 0 0 1]\n",
      " [0 0 0 1 0 1 1 0 1 1 0]\n",
      " [0 0 0 1 1 1 0 1 0 1 0]\n",
      " [0 0 0 1 1 1 0 1 1 0 1]\n",
      " [0 0 0 1 1 1 1 1 0 0 0]\n",
      " [0 0 0 1 1 1 1 1 1 1 1]\n",
      " [1 0 1 0 0 1 0 1 0 1 0]\n",
      " [1 0 1 0 0 1 0 1 1 0 1]\n",
      " [1 0 1 0 0 1 1 1 0 0 0]\n",
      " [1 0 1 0 0 1 1 1 1 1 1]\n",
      " [1 0 1 0 1 1 0 0 0 1 1]\n",
      " [1 0 1 0 1 1 0 0 1 0 0]\n",
      " [1 0 1 0 1 1 1 0 0 0 1]\n",
      " [1 0 1 0 1 1 1 0 1 1 0]\n",
      " [1 0 1 1 0 0 0 1 0 0 1]\n",
      " [1 0 1 1 0 0 0 1 1 1 0]\n",
      " [1 0 1 1 0 0 1 1 0 1 1]\n",
      " [1 0 1 1 0 0 1 1 1 0 0]\n",
      " [1 0 1 1 1 0 0 0 0 0 0]\n",
      " [1 0 1 1 1 0 0 0 1 1 1]\n",
      " [1 0 1 1 1 0 1 0 0 1 0]\n",
      " [1 0 1 1 1 0 1 0 1 0 1]]\n",
      "\n",
      "Кодовые слова прошли проверку.\n"
     ]
    }
   ],
   "source": [
    "codewords_1 = linearCode.generate_codewords_1()\n",
    "codewords_2 = linearCode.generate_codewords_2()\n",
    "print(\"\\nСформированные кодовые слова (1 способ):\\n\", codewords_1)\n",
    "print(\"\\nСформированные кодовые слова (2 способ):\\n\", codewords_2)\n",
    "\n",
    "# Проверяем списки кодовых слов на совпадение\n",
    "assert set(map(tuple, codewords_1)) == set(\n",
    "    map(tuple, codewords_2)), \"Наборы кодовых слов не совпадают!\"\n",
    "\n",
    "# Проверка кодовых слов с помощью матрицы H\n",
    "for codeword in codewords_2:\n",
    "    result = linearCode.check_codeword(codeword)\n",
    "    assert np.all(result == 0), f\"Ошибка: кодовое слово {codeword} не прошло проверку матрицей H\"\n",
    "\n",
    "print(\"\\nКодовые слова прошли проверку.\\n\")"
   ],
   "metadata": {
    "collapsed": false,
    "ExecuteTime": {
     "end_time": "2024-09-18T06:07:33.908789Z",
     "start_time": "2024-09-18T06:07:33.880529Z"
    }
   },
   "id": "2b25202a72d33305",
   "execution_count": 22
  },
  {
   "cell_type": "markdown",
   "source": [
    "### 3. Вычисление кодового расстояния и кратности обнаруживаемой ошибки"
   ],
   "metadata": {
    "collapsed": false
   },
   "id": "a3322ede893e2b4d"
  },
  {
   "cell_type": "code",
   "outputs": [
    {
     "name": "stdout",
     "output_type": "stream",
     "text": [
      "d =  2\n",
      "t =  1\n"
     ]
    }
   ],
   "source": [
    "# Вычисляем кодовое расстояние и кратность обнаруживаемой ошибки\n",
    "d = linearCode.get_code_distance(codewords_1)\n",
    "print(\"d = \", d)\n",
    "\n",
    "# t = (d - 1) // 2\n",
    "t = (d - 1)\n",
    "print(\"t = \", t)"
   ],
   "metadata": {
    "collapsed": false,
    "ExecuteTime": {
     "end_time": "2024-09-18T06:07:34.033136Z",
     "start_time": "2024-09-18T06:07:34.016981Z"
    }
   },
   "id": "5f5de7823a12c52c",
   "execution_count": 23
  },
  {
   "cell_type": "markdown",
   "source": [
    "### 4 .Проверка работы программы путем внесения ошибок"
   ],
   "metadata": {
    "collapsed": false
   },
   "id": "79099b627cca1265"
  },
  {
   "cell_type": "code",
   "outputs": [
    {
     "name": "stdout",
     "output_type": "stream",
     "text": [
      "e1 = [0 0 1 0 0 0 0 0 0 0 0]\n",
      "v + e1 =  [1 0 0 1 1 0 1 0 0 1 0]\n",
      "(v + e1)@H = [0 1 0 0 0 0] - error\n",
      "\n",
      "e2 = [0 0 0 0 0 0 1 0 0 1 0]\n",
      "v + e2 = [1 0 1 1 1 0 0 0 0 0 0]\n",
      "(v + e2)@H = [0 0 0 0 0 0] - no error\n"
     ]
    }
   ],
   "source": [
    "# Вносим в кодовое слово ошибку кратности не более t\n",
    "# Необходимо убедиться в обнаружении ошибки.\n",
    "v = np.array([1, 0, 1, 1, 1, 0, 1, 0, 0, 1, 0])\n",
    "e1 = np.array([0, 0, 1, 0, 0, 0, 0, 0, 0, 0, 0])\n",
    "v_e1 = (v + e1) % 2\n",
    "print(f\"e1 = {e1}\")\n",
    "print('v + e1 = ', v_e1)\n",
    "print('(v + e1)@H =', linearCode.check_codeword(v_e1), \"- error\")\n",
    "\n",
    "print()\n",
    "# Найти для некоторого кодового слова ошибку кратности t+1\n",
    "# такую, что при умножении на H ошибка не может быть обнаружена\n",
    "e2 = np.array([0, 0, 0, 0, 0, 0, 1, 0, 0, 1, 0])\n",
    "print(f\"e2 = {e2}\")\n",
    "v_e2 = (v + e2) % 2\n",
    "print(f\"v + e2 = {v_e2}\")\n",
    "print(f\"(v + e2)@H = {linearCode.check_codeword(v_e2)} - no error\")"
   ],
   "metadata": {
    "collapsed": false,
    "ExecuteTime": {
     "end_time": "2024-09-18T06:07:34.078243Z",
     "start_time": "2024-09-18T06:07:34.057969Z"
    }
   },
   "id": "5d26421966e34466",
   "execution_count": 24
  }
 ],
 "metadata": {
  "kernelspec": {
   "display_name": "Python 3",
   "language": "python",
   "name": "python3"
  },
  "language_info": {
   "codemirror_mode": {
    "name": "ipython",
    "version": 2
   },
   "file_extension": ".py",
   "mimetype": "text/x-python",
   "name": "python",
   "nbconvert_exporter": "python",
   "pygments_lexer": "ipython2",
   "version": "2.7.6"
  }
 },
 "nbformat": 4,
 "nbformat_minor": 5
}
