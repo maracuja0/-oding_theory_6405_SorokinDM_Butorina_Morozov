{
 "cells": [
  {
   "cell_type": "code",
   "execution_count": 1478,
   "metadata": {},
   "outputs": [],
   "source": [
    "import numpy as np\n",
    "# import itertools\n",
    "import random"
   ]
  },
  {
   "cell_type": "code",
   "execution_count": 1479,
   "metadata": {},
   "outputs": [],
   "source": [
    "\n",
    "def create_hamming_matrix(r: int) -> np.ndarray:\n",
    "    n = 2**r - 1\n",
    "    H = np.zeros((r, n), dtype=int)\n",
    "    \n",
    "    col = 0\n",
    "    for i in range(1, n + 1):\n",
    "        if i & (i - 1):  \n",
    "            binary = [int(bit) for bit in bin(i)[2:].zfill(r)]\n",
    "            H[:, col] = binary\n",
    "            col += 1\n",
    "    \n",
    "    for i in range(r):\n",
    "        H[i, n - r + i] = 1\n",
    "    \n",
    "    return H\n",
    "\n",
    "\n",
    "\n",
    "def create_generator_matrix(H: np.ndarray) -> np.ndarray:\n",
    "    r, n = H.shape\n",
    "    k = n - r\n",
    "    P = H[:, :k]\n",
    "    I_k = np.eye(k, dtype=int)\n",
    "    G = np.hstack((I_k, P.T))\n",
    "    return G\n",
    "\n",
    "\n",
    "\n",
    "def generate_syndrome_table(H):\n",
    "    n = H.shape[1]\n",
    "    syndrome_table = {}\n",
    "    \n",
    "    for i in range(n):\n",
    "        error_vector = np.zeros(n, dtype=int)\n",
    "        error_vector[i] = 1\n",
    "        syndrome = tuple(int(s) for s in (H @ error_vector) % 2)\n",
    "        syndrome_table[syndrome] = (i,)\n",
    "\n",
    "    return syndrome_table\n",
    "\n",
    "\n",
    "\n",
    "\n"
   ]
  },
  {
   "cell_type": "code",
   "execution_count": 1480,
   "metadata": {},
   "outputs": [],
   "source": [
    "\n",
    "def encode_message(message, G):\n",
    "    return (message @ G) % 2\n",
    "\n",
    "def introduce_error(codeword, num_errors):\n",
    "    error_positions = random.sample(range(len(codeword)), num_errors)\n",
    "    error_vector = np.zeros_like(codeword)\n",
    "    error_vector[error_positions] = 1\n",
    "    return (codeword + error_vector) % 2, error_vector\n",
    "\n",
    "def decode_message(received, H, syndrome_table, is_extended=False):\n",
    "    syndrome = tuple(int(s) for s in (H @ received) % 2)\n",
    "    \n",
    "    if is_extended:\n",
    "        parity_check = np.sum(received) % 2\n",
    "        if parity_check == 0 and syndrome == tuple(0 for _ in range(len(syndrome))):\n",
    "            return received, False  # Ошибок не обнаружено\n",
    "        elif parity_check == 1 and syndrome in syndrome_table:\n",
    "            correction_indices = syndrome_table[syndrome]\n",
    "            corrected = received.copy()\n",
    "            for index in correction_indices:\n",
    "                corrected[index] ^= 1  # Исправляем ошибку\n",
    "            return corrected, True\n",
    "        else:\n",
    "            return received, False  # Обнаружена неисправимая ошибка\n",
    "    else:\n",
    "        if syndrome == tuple(0 for _ in range(len(syndrome))):\n",
    "            return received, False  # Ошибок не обнаружено\n",
    "        if syndrome in syndrome_table:\n",
    "            error_position = syndrome_table[syndrome][0]\n",
    "            corrected = received.copy()\n",
    "            corrected[error_position] ^= 1  # Исправляем ошибку\n",
    "            return corrected, True\n",
    "        return received, False  # Неисправимая ошибка\n",
    "\n",
    "def hamming_code_test(r, H, G, syndrome_table, num_errors, is_extended=False):\n",
    "    k = G.shape[0]  \n",
    "    message = np.random.randint(0, 2, k)\n",
    "    \n",
    "    print(f\"Тест для r={r}, количество ошибок={num_errors}\")\n",
    "    print(f\"Исходное сообщение (u): {message}\")\n",
    "    \n",
    "    codeword = encode_message(message, G)\n",
    "    print(f\"Кодовое слово (v): {codeword}\")\n",
    "    \n",
    "    received, error = introduce_error(codeword, num_errors)\n",
    "    print(f\"Допущенная ошибка: {error}\")\n",
    "    print(f\"Принятое с ошибкой слово: {received}\")\n",
    "    \n",
    "    syndrome = (H @ received) % 2\n",
    "    print(f\"Синдром принятого сообщения: {syndrome}\")\n",
    "    \n",
    "    decoded, corrected = decode_message(received, H, syndrome_table, is_extended)\n",
    "\n",
    "    if corrected:\n",
    "        print(f\"Исправленное сообщение: {[int(bit) for bit in decoded]}\")\n",
    "        if np.array_equal(decoded, codeword):\n",
    "            print(\"Ошибка была исправлена успешно!\")\n",
    "        else:\n",
    "            print(\"Ошибка не была исправлена корректно.\")\n",
    "    elif np.array_equal(syndrome, np.zeros_like(syndrome)):\n",
    "        print(\"Ошибок не обнаружено.\")\n",
    "    else:\n",
    "        print(\"Обнаружена неисправимая ошибка.\")\n",
    "    \n",
    "    print(\"\\n\")\n",
    "\n",
    "\n",
    "\n",
    "\n"
   ]
  },
  {
   "cell_type": "code",
   "execution_count": 1481,
   "metadata": {},
   "outputs": [
    {
     "name": "stdout",
     "output_type": "stream",
     "text": [
      "Проверочная матрица H:\n",
      "[[1 1]\n",
      " [1 0]\n",
      " [0 1]]\n",
      "Порождающая матрица G:\n",
      "[[1 1 1]]\n",
      "Таблица синдромов:\n",
      "{(1, 1): (0,), (1, 0): (1,), (0, 1): (2,)}\n"
     ]
    }
   ],
   "source": [
    "r = 2  \n",
    "n = 2**r - 1\n",
    "k = n - r\n",
    "H = create_hamming_matrix(r)\n",
    "print(\"Проверочная матрица H:\")\n",
    "print(H.T)\n",
    "G = create_generator_matrix(H)\n",
    "print(\"Порождающая матрица G:\")\n",
    "print(G)\n",
    "syndrome_table = generate_syndrome_table(H)\n",
    "print(\"Таблица синдромов:\")\n",
    "print(syndrome_table)"
   ]
  },
  {
   "cell_type": "code",
   "execution_count": 1482,
   "metadata": {},
   "outputs": [
    {
     "name": "stdout",
     "output_type": "stream",
     "text": [
      "Тест для r=2, количество ошибок=1\n",
      "Исходное сообщение (u): [0]\n",
      "Кодовое слово (v): [0 0 0]\n",
      "Допущенная ошибка: [0 1 0]\n",
      "Принятое с ошибкой слово: [0 1 0]\n",
      "Синдром принятого сообщения: [1 0]\n",
      "Исправленное сообщение: [0, 0, 0]\n",
      "Ошибка была исправлена успешно!\n",
      "\n",
      "\n",
      "Тест для r=2, количество ошибок=2\n",
      "Исходное сообщение (u): [0]\n",
      "Кодовое слово (v): [0 0 0]\n",
      "Допущенная ошибка: [1 1 0]\n",
      "Принятое с ошибкой слово: [1 1 0]\n",
      "Синдром принятого сообщения: [0 1]\n",
      "Исправленное сообщение: [1, 1, 1]\n",
      "Ошибка не была исправлена корректно.\n",
      "\n",
      "\n"
     ]
    }
   ],
   "source": [
    "hamming_code_test(r, H,G,syndrome_table,1,is_extended=False)\n",
    "hamming_code_test(r, H,G,syndrome_table,2,is_extended=False)"
   ]
  },
  {
   "cell_type": "code",
   "execution_count": 1483,
   "metadata": {},
   "outputs": [
    {
     "name": "stdout",
     "output_type": "stream",
     "text": [
      "Тест для r=2, количество ошибок=3\n",
      "Исходное сообщение (u): [1]\n",
      "Кодовое слово (v): [1 1 1]\n",
      "Допущенная ошибка: [1 1 1]\n",
      "Принятое с ошибкой слово: [0 0 0]\n",
      "Синдром принятого сообщения: [0 0]\n",
      "Ошибок не обнаружено.\n",
      "\n",
      "\n"
     ]
    }
   ],
   "source": [
    "hamming_code_test(r, H,G,syndrome_table,3,is_extended=False)"
   ]
  },
  {
   "cell_type": "code",
   "execution_count": 1484,
   "metadata": {},
   "outputs": [
    {
     "name": "stdout",
     "output_type": "stream",
     "text": [
      "Проверочная матрица H:\n",
      "[[0 1 1]\n",
      " [1 0 1]\n",
      " [1 1 0]\n",
      " [1 1 1]\n",
      " [1 0 0]\n",
      " [0 1 0]\n",
      " [0 0 1]]\n",
      "Порождающая матрица G:\n",
      "[[1 0 0 0 0 1 1]\n",
      " [0 1 0 0 1 0 1]\n",
      " [0 0 1 0 1 1 0]\n",
      " [0 0 0 1 1 1 1]]\n"
     ]
    }
   ],
   "source": [
    "r = 3  \n",
    "H = create_hamming_matrix(r)\n",
    "print(\"Проверочная матрица H:\")\n",
    "print(H.T)\n",
    "G = create_generator_matrix(H)\n",
    "print(\"Порождающая матрица G:\")\n",
    "print(G)\n",
    "syndrome_table = generate_syndrome_table(H)"
   ]
  },
  {
   "cell_type": "code",
   "execution_count": 1485,
   "metadata": {},
   "outputs": [
    {
     "name": "stdout",
     "output_type": "stream",
     "text": [
      "Тест для r=3, количество ошибок=1\n",
      "Исходное сообщение (u): [1 0 1 0]\n",
      "Кодовое слово (v): [1 0 1 0 1 0 1]\n",
      "Допущенная ошибка: [0 0 0 0 1 0 0]\n",
      "Принятое с ошибкой слово: [1 0 1 0 0 0 1]\n",
      "Синдром принятого сообщения: [1 0 0]\n",
      "Исправленное сообщение: [1, 0, 1, 0, 1, 0, 1]\n",
      "Ошибка была исправлена успешно!\n",
      "\n",
      "\n",
      "Тест для r=3, количество ошибок=2\n",
      "Исходное сообщение (u): [1 0 0 0]\n",
      "Кодовое слово (v): [1 0 0 0 0 1 1]\n",
      "Допущенная ошибка: [0 0 1 0 0 0 1]\n",
      "Принятое с ошибкой слово: [1 0 1 0 0 1 0]\n",
      "Синдром принятого сообщения: [1 1 1]\n",
      "Исправленное сообщение: [1, 0, 1, 1, 0, 1, 0]\n",
      "Ошибка не была исправлена корректно.\n",
      "\n",
      "\n"
     ]
    }
   ],
   "source": [
    "hamming_code_test(r, H,G,syndrome_table,1,is_extended=False)\n",
    "hamming_code_test(r, H,G,syndrome_table,2,is_extended=False)"
   ]
  },
  {
   "cell_type": "code",
   "execution_count": 1486,
   "metadata": {},
   "outputs": [
    {
     "name": "stdout",
     "output_type": "stream",
     "text": [
      "Тест для r=3, количество ошибок=3\n",
      "Исходное сообщение (u): [1 1 1 1]\n",
      "Кодовое слово (v): [1 1 1 1 1 1 1]\n",
      "Допущенная ошибка: [0 0 0 1 0 1 1]\n",
      "Принятое с ошибкой слово: [1 1 1 0 1 0 0]\n",
      "Синдром принятого сообщения: [1 0 0]\n",
      "Исправленное сообщение: [1, 1, 1, 0, 0, 0, 0]\n",
      "Ошибка не была исправлена корректно.\n",
      "\n",
      "\n"
     ]
    }
   ],
   "source": [
    "hamming_code_test(r, H,G,syndrome_table,3,is_extended=False)"
   ]
  },
  {
   "cell_type": "code",
   "execution_count": 1487,
   "metadata": {},
   "outputs": [
    {
     "name": "stdout",
     "output_type": "stream",
     "text": [
      "Проверочная матрица H:\n",
      "[[0 0 1 1]\n",
      " [0 1 0 1]\n",
      " [0 1 1 0]\n",
      " [0 1 1 1]\n",
      " [1 0 0 1]\n",
      " [1 0 1 0]\n",
      " [1 0 1 1]\n",
      " [1 1 0 0]\n",
      " [1 1 0 1]\n",
      " [1 1 1 0]\n",
      " [1 1 1 1]\n",
      " [1 0 0 0]\n",
      " [0 1 0 0]\n",
      " [0 0 1 0]\n",
      " [0 0 0 1]]\n",
      "Порождающая матрица G:\n",
      "[[1 0 0 0 0 0 0 0 0 0 0 0 0 1 1]\n",
      " [0 1 0 0 0 0 0 0 0 0 0 0 1 0 1]\n",
      " [0 0 1 0 0 0 0 0 0 0 0 0 1 1 0]\n",
      " [0 0 0 1 0 0 0 0 0 0 0 0 1 1 1]\n",
      " [0 0 0 0 1 0 0 0 0 0 0 1 0 0 1]\n",
      " [0 0 0 0 0 1 0 0 0 0 0 1 0 1 0]\n",
      " [0 0 0 0 0 0 1 0 0 0 0 1 0 1 1]\n",
      " [0 0 0 0 0 0 0 1 0 0 0 1 1 0 0]\n",
      " [0 0 0 0 0 0 0 0 1 0 0 1 1 0 1]\n",
      " [0 0 0 0 0 0 0 0 0 1 0 1 1 1 0]\n",
      " [0 0 0 0 0 0 0 0 0 0 1 1 1 1 1]]\n"
     ]
    }
   ],
   "source": [
    "r = 4  \n",
    "H = create_hamming_matrix(r)\n",
    "print(\"Проверочная матрица H:\")\n",
    "print(H.T)\n",
    "G = create_generator_matrix(H)\n",
    "print(\"Порождающая матрица G:\")\n",
    "print(G)\n",
    "syndrome_table = generate_syndrome_table(H)"
   ]
  },
  {
   "cell_type": "code",
   "execution_count": 1488,
   "metadata": {},
   "outputs": [
    {
     "name": "stdout",
     "output_type": "stream",
     "text": [
      "Тест для r=4, количество ошибок=1\n",
      "Исходное сообщение (u): [1 1 1 0 1 1 1 1 0 1 0]\n",
      "Кодовое слово (v): [1 1 1 0 1 1 1 1 0 1 0 1 0 1 0]\n",
      "Допущенная ошибка: [0 0 0 0 0 1 0 0 0 0 0 0 0 0 0]\n",
      "Принятое с ошибкой слово: [1 1 1 0 1 0 1 1 0 1 0 1 0 1 0]\n",
      "Синдром принятого сообщения: [1 0 1 0]\n",
      "Исправленное сообщение: [1, 1, 1, 0, 1, 1, 1, 1, 0, 1, 0, 1, 0, 1, 0]\n",
      "Ошибка была исправлена успешно!\n",
      "\n",
      "\n",
      "Тест для r=4, количество ошибок=2\n",
      "Исходное сообщение (u): [0 0 0 1 0 1 0 1 1 0 1]\n",
      "Кодовое слово (v): [0 0 0 1 0 1 0 1 1 0 1 0 0 1 1]\n",
      "Допущенная ошибка: [0 0 1 0 1 0 0 0 0 0 0 0 0 0 0]\n",
      "Принятое с ошибкой слово: [0 0 1 1 1 1 0 1 1 0 1 0 0 1 1]\n",
      "Синдром принятого сообщения: [1 1 1 1]\n",
      "Исправленное сообщение: [0, 0, 1, 1, 1, 1, 0, 1, 1, 0, 0, 0, 0, 1, 1]\n",
      "Ошибка не была исправлена корректно.\n",
      "\n",
      "\n"
     ]
    }
   ],
   "source": [
    "hamming_code_test(r, H,G,syndrome_table,1,is_extended=False)\n",
    "hamming_code_test(r, H,G,syndrome_table,2,is_extended=False)"
   ]
  },
  {
   "cell_type": "code",
   "execution_count": 1489,
   "metadata": {},
   "outputs": [
    {
     "name": "stdout",
     "output_type": "stream",
     "text": [
      "Тест для r=4, количество ошибок=3\n",
      "Исходное сообщение (u): [0 0 1 0 0 1 1 0 0 0 1]\n",
      "Кодовое слово (v): [0 0 1 0 0 1 1 0 0 0 1 1 0 0 0]\n",
      "Допущенная ошибка: [0 0 0 1 0 0 0 0 0 1 0 0 0 1 0]\n",
      "Принятое с ошибкой слово: [0 0 1 1 0 1 1 0 0 1 1 1 0 1 0]\n",
      "Синдром принятого сообщения: [1 0 1 1]\n",
      "Исправленное сообщение: [0, 0, 1, 1, 0, 1, 0, 0, 0, 1, 1, 1, 0, 1, 0]\n",
      "Ошибка не была исправлена корректно.\n",
      "\n",
      "\n"
     ]
    }
   ],
   "source": [
    "hamming_code_test(r, H,G,syndrome_table,3,is_extended=False)"
   ]
  },
  {
   "cell_type": "code",
   "execution_count": null,
   "metadata": {},
   "outputs": [],
   "source": [
    "\n",
    "\n",
    "def create_extended_hamming_check_matrix(H: np.ndarray) -> np.ndarray:\n",
    "    r, n = H.shape\n",
    "    H_extended = np.zeros((r + 1, n + 1), dtype=int)\n",
    "    \n",
    "    H_extended[:-1, :-1] = H  \n",
    "    H_extended[-1, :-1] = np.sum(H, axis=0) % 2  \n",
    "    H_extended[:, -1] = 1  \n",
    "    \n",
    "    return H_extended\n",
    "\n",
    "def create_extended_generator_matrix(G: np.ndarray) -> np.ndarray:\n",
    "    k, n = G.shape\n",
    "    G_extended = np.zeros((k, n + 1), dtype=int)\n",
    "    \n",
    "    G_extended[:, :-1] = G  \n",
    "    G_extended[:, -1] = np.sum(G, axis=1) % 2  \n",
    "    \n",
    "    return G_extended\n",
    "\n",
    "\n",
    "\n",
    "\n",
    "\n",
    "\n",
    "\n",
    "\n",
    "\n",
    "\n",
    "\n",
    "\n",
    "\n",
    "\n",
    "\n",
    "\n",
    "\n"
   ]
  },
  {
   "cell_type": "code",
   "execution_count": 1491,
   "metadata": {},
   "outputs": [
    {
     "name": "stdout",
     "output_type": "stream",
     "text": [
      "\n",
      "Расширенная проверочная матрица H:\n",
      "[[1 1 0]\n",
      " [1 0 1]\n",
      " [0 1 1]\n",
      " [1 1 1]]\n",
      "\n",
      "Расширенная порождающая матрица G:\n",
      "[[1 1 1 1]]\n"
     ]
    }
   ],
   "source": [
    "r = 2\n",
    "H = create_hamming_matrix(r)\n",
    "G = create_generator_matrix(H)\n",
    "\n",
    "H_extended = create_extended_hamming_check_matrix(H)\n",
    "\n",
    "print(\"\\nРасширенная проверочная матрица H:\")\n",
    "print(H_extended.T)\n",
    "\n",
    "G_extended = create_extended_generator_matrix(G)\n",
    "print(\"\\nРасширенная порождающая матрица G:\")\n",
    "print(G_extended)\n",
    "syndrome_table = generate_syndrome_table(H_extended)\n"
   ]
  },
  {
   "cell_type": "code",
   "execution_count": 1492,
   "metadata": {},
   "outputs": [
    {
     "name": "stdout",
     "output_type": "stream",
     "text": [
      "Тест для r=2, количество ошибок=1\n",
      "Исходное сообщение (u): [0]\n",
      "Кодовое слово (v): [0 0 0 0]\n",
      "Допущенная ошибка: [0 0 1 0]\n",
      "Принятое с ошибкой слово: [0 0 1 0]\n",
      "Синдром принятого сообщения: [0 1 1]\n",
      "Исправленное сообщение: [0, 0, 0, 0]\n",
      "Ошибка была исправлена успешно!\n",
      "\n",
      "\n",
      "Тест для r=2, количество ошибок=2\n",
      "Исходное сообщение (u): [1]\n",
      "Кодовое слово (v): [1 1 1 1]\n",
      "Допущенная ошибка: [1 1 0 0]\n",
      "Принятое с ошибкой слово: [0 0 1 1]\n",
      "Синдром принятого сообщения: [1 0 0]\n",
      "Обнаружена неисправимая ошибка.\n",
      "\n",
      "\n",
      "Тест для r=2, количество ошибок=3\n",
      "Исходное сообщение (u): [0]\n",
      "Кодовое слово (v): [0 0 0 0]\n",
      "Допущенная ошибка: [1 0 1 1]\n",
      "Принятое с ошибкой слово: [1 0 1 1]\n",
      "Синдром принятого сообщения: [0 1 0]\n",
      "Обнаружена неисправимая ошибка.\n",
      "\n",
      "\n"
     ]
    }
   ],
   "source": [
    "hamming_code_test(r, H_extended,G_extended,syndrome_table,1,is_extended=True)\n",
    "hamming_code_test(r, H_extended,G_extended,syndrome_table,2,is_extended=True)\n",
    "hamming_code_test(r, H_extended,G_extended,syndrome_table,3,is_extended=True)"
   ]
  },
  {
   "cell_type": "code",
   "execution_count": 1493,
   "metadata": {},
   "outputs": [
    {
     "name": "stdout",
     "output_type": "stream",
     "text": [
      "\n",
      "Расширенная проверочная матрица H:\n",
      "[[0 1 1 0]\n",
      " [1 0 1 0]\n",
      " [1 1 0 0]\n",
      " [1 1 1 1]\n",
      " [1 0 0 1]\n",
      " [0 1 0 1]\n",
      " [0 0 1 1]\n",
      " [1 1 1 1]]\n",
      "\n",
      "Расширенная порождающая матрица G:\n",
      "[[1 0 0 0 0 1 1 1]\n",
      " [0 1 0 0 1 0 1 1]\n",
      " [0 0 1 0 1 1 0 1]\n",
      " [0 0 0 1 1 1 1 0]]\n"
     ]
    }
   ],
   "source": [
    "r = 3\n",
    "H = create_hamming_matrix(r)\n",
    "G = create_generator_matrix(H)\n",
    "\n",
    "\n",
    "H_extended = create_extended_hamming_check_matrix(H)\n",
    "print(\"\\nРасширенная проверочная матрица H:\")\n",
    "print(H_extended.T)\n",
    "\n",
    "\n",
    "G_extended = create_extended_generator_matrix(G)\n",
    "print(\"\\nРасширенная порождающая матрица G:\")\n",
    "print(G_extended)\n",
    "syndrome_table = generate_syndrome_table(H_extended)\n"
   ]
  },
  {
   "cell_type": "code",
   "execution_count": 1494,
   "metadata": {},
   "outputs": [
    {
     "name": "stdout",
     "output_type": "stream",
     "text": [
      "Тест для r=3, количество ошибок=1\n",
      "Исходное сообщение (u): [1 0 1 1]\n",
      "Кодовое слово (v): [1 0 1 1 0 1 0 0]\n",
      "Допущенная ошибка: [0 0 0 0 0 0 0 1]\n",
      "Принятое с ошибкой слово: [1 0 1 1 0 1 0 1]\n",
      "Синдром принятого сообщения: [1 1 1 1]\n",
      "Исправленное сообщение: [1, 0, 1, 1, 0, 1, 0, 0]\n",
      "Ошибка была исправлена успешно!\n",
      "\n",
      "\n",
      "Тест для r=3, количество ошибок=2\n",
      "Исходное сообщение (u): [0 1 0 1]\n",
      "Кодовое слово (v): [0 1 0 1 0 1 0 1]\n",
      "Допущенная ошибка: [1 1 0 0 0 0 0 0]\n",
      "Принятое с ошибкой слово: [1 0 0 1 0 1 0 1]\n",
      "Синдром принятого сообщения: [0 0 1 1]\n",
      "Обнаружена неисправимая ошибка.\n",
      "\n",
      "\n"
     ]
    }
   ],
   "source": [
    "hamming_code_test(r, H_extended,G_extended,syndrome_table,1,is_extended=True)\n",
    "hamming_code_test(r, H_extended,G_extended,syndrome_table,2,is_extended=True)"
   ]
  },
  {
   "cell_type": "code",
   "execution_count": 1495,
   "metadata": {},
   "outputs": [
    {
     "name": "stdout",
     "output_type": "stream",
     "text": [
      "Тест для r=3, количество ошибок=3\n",
      "Исходное сообщение (u): [1 1 0 1]\n",
      "Кодовое слово (v): [1 1 0 1 0 0 1 0]\n",
      "Допущенная ошибка: [0 0 1 0 0 1 1 0]\n",
      "Принятое с ошибкой слово: [1 1 1 1 0 1 0 0]\n",
      "Синдром принятого сообщения: [1 0 1 0]\n",
      "Исправленное сообщение: [1, 0, 1, 1, 0, 1, 0, 0]\n",
      "Ошибка не была исправлена корректно.\n",
      "\n",
      "\n"
     ]
    }
   ],
   "source": [
    "hamming_code_test(r, H_extended,G_extended,syndrome_table,3,is_extended=True)"
   ]
  },
  {
   "cell_type": "code",
   "execution_count": 1496,
   "metadata": {},
   "outputs": [
    {
     "name": "stdout",
     "output_type": "stream",
     "text": [
      "\n",
      "Расширенная проверочная матрица H:\n",
      "[[0 0 1 1 0]\n",
      " [0 1 0 1 0]\n",
      " [0 1 1 0 0]\n",
      " [0 1 1 1 1]\n",
      " [1 0 0 1 0]\n",
      " [1 0 1 0 0]\n",
      " [1 0 1 1 1]\n",
      " [1 1 0 0 0]\n",
      " [1 1 0 1 1]\n",
      " [1 1 1 0 1]\n",
      " [1 1 1 1 0]\n",
      " [1 0 0 0 1]\n",
      " [0 1 0 0 1]\n",
      " [0 0 1 0 1]\n",
      " [0 0 0 1 1]\n",
      " [1 1 1 1 1]]\n",
      "\n",
      "Расширенная порождающая матрица G:\n",
      "[[1 0 0 0 0 0 0 0 0 0 0 0 0 1 1 1]\n",
      " [0 1 0 0 0 0 0 0 0 0 0 0 1 0 1 1]\n",
      " [0 0 1 0 0 0 0 0 0 0 0 0 1 1 0 1]\n",
      " [0 0 0 1 0 0 0 0 0 0 0 0 1 1 1 0]\n",
      " [0 0 0 0 1 0 0 0 0 0 0 1 0 0 1 1]\n",
      " [0 0 0 0 0 1 0 0 0 0 0 1 0 1 0 1]\n",
      " [0 0 0 0 0 0 1 0 0 0 0 1 0 1 1 0]\n",
      " [0 0 0 0 0 0 0 1 0 0 0 1 1 0 0 1]\n",
      " [0 0 0 0 0 0 0 0 1 0 0 1 1 0 1 0]\n",
      " [0 0 0 0 0 0 0 0 0 1 0 1 1 1 0 0]\n",
      " [0 0 0 0 0 0 0 0 0 0 1 1 1 1 1 1]]\n"
     ]
    }
   ],
   "source": [
    "r = 4\n",
    "H = create_hamming_matrix(r)\n",
    "G = create_generator_matrix(H)\n",
    "\n",
    "# Создаем расширенную проверочную матрицу\n",
    "H_extended = create_extended_hamming_check_matrix(H)\n",
    "print(\"\\nРасширенная проверочная матрица H:\")\n",
    "print(H_extended.T)\n",
    "\n",
    "# Создаем расширенную порождающую матрицу\n",
    "G_extended = create_extended_generator_matrix(G)\n",
    "print(\"\\nРасширенная порождающая матрица G:\")\n",
    "print(G_extended)\n",
    "syndrome_table = generate_syndrome_table(H_extended)"
   ]
  },
  {
   "cell_type": "code",
   "execution_count": 1497,
   "metadata": {},
   "outputs": [
    {
     "name": "stdout",
     "output_type": "stream",
     "text": [
      "Тест для r=4, количество ошибок=1\n",
      "Исходное сообщение (u): [0 0 1 1 1 1 0 0 1 0 1]\n",
      "Кодовое слово (v): [0 0 1 1 1 1 0 0 1 0 1 0 0 0 0 0]\n",
      "Допущенная ошибка: [0 1 0 0 0 0 0 0 0 0 0 0 0 0 0 0]\n",
      "Принятое с ошибкой слово: [0 1 1 1 1 1 0 0 1 0 1 0 0 0 0 0]\n",
      "Синдром принятого сообщения: [0 1 0 1 0]\n",
      "Исправленное сообщение: [0, 0, 1, 1, 1, 1, 0, 0, 1, 0, 1, 0, 0, 0, 0, 0]\n",
      "Ошибка была исправлена успешно!\n",
      "\n",
      "\n",
      "Тест для r=4, количество ошибок=2\n",
      "Исходное сообщение (u): [1 1 1 0 1 1 1 0 1 1 0]\n",
      "Кодовое слово (v): [1 1 1 0 1 1 1 0 1 1 0 1 0 1 1 1]\n",
      "Допущенная ошибка: [1 0 0 0 1 0 0 0 0 0 0 0 0 0 0 0]\n",
      "Принятое с ошибкой слово: [0 1 1 0 0 1 1 0 1 1 0 1 0 1 1 1]\n",
      "Синдром принятого сообщения: [0 1 0 1 1]\n",
      "Обнаружена неисправимая ошибка.\n",
      "\n",
      "\n"
     ]
    }
   ],
   "source": [
    "hamming_code_test(r, H_extended,G_extended,syndrome_table,1,is_extended=True)\n",
    "hamming_code_test(r, H_extended,G_extended,syndrome_table,2,is_extended=True)"
   ]
  },
  {
   "cell_type": "code",
   "execution_count": 1498,
   "metadata": {},
   "outputs": [
    {
     "name": "stdout",
     "output_type": "stream",
     "text": [
      "Тест для r=4, количество ошибок=3\n",
      "Исходное сообщение (u): [0 0 1 0 1 0 0 0 1 0 1]\n",
      "Кодовое слово (v): [0 0 1 0 1 0 0 0 1 0 1 1 1 0 1 1]\n",
      "Допущенная ошибка: [1 1 0 1 0 0 0 0 0 0 0 0 0 0 0 0]\n",
      "Принятое с ошибкой слово: [1 1 1 1 1 0 0 0 1 0 1 1 1 0 1 1]\n",
      "Синдром принятого сообщения: [1 1 1 0 0]\n",
      "Обнаружена неисправимая ошибка.\n",
      "\n",
      "\n"
     ]
    }
   ],
   "source": [
    "hamming_code_test(r, H_extended,G_extended,syndrome_table,3,is_extended=True)"
   ]
  }
 ],
 "metadata": {
  "kernelspec": {
   "display_name": "Python 3",
   "language": "python",
   "name": "python3"
  },
  "language_info": {
   "codemirror_mode": {
    "name": "ipython",
    "version": 3
   },
   "file_extension": ".py",
   "mimetype": "text/x-python",
   "name": "python",
   "nbconvert_exporter": "python",
   "pygments_lexer": "ipython3",
   "version": "3.13.0"
  }
 },
 "nbformat": 4,
 "nbformat_minor": 2
}
